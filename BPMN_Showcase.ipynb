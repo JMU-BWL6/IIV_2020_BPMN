{
  "nbformat": 4,
  "nbformat_minor": 0,
  "metadata": {
    "colab": {
      "name": "PAS_BPMN_Showcase.ipynb",
      "provenance": [],
      "collapsed_sections": [],
      "toc_visible": true
    },
    "kernelspec": {
      "name": "python3",
      "display_name": "Python 3"
    }
  },
  "cells": [
    {
      "cell_type": "markdown",
      "metadata": {
        "id": "F1OusV6C4nl4"
      },
      "source": [
        "## Analyse\n",
        "\n",
        "\n",
        "\n"
      ]
    },
    {
      "cell_type": "markdown",
      "metadata": {
        "id": "84qpiVN1Bnv2"
      },
      "source": [
        "install needed Packages  \n",
        "\n"
      ]
    },
    {
      "cell_type": "code",
      "metadata": {
        "id": "1FkNIlBAC6pA"
      },
      "source": [
        "# only 4 anaconda users\n",
        "# for our project we need to install some packages\n",
        "# in a lokal IDE  this must be done via console or the anaconda package manager\n",
        "\n",
        "#Windows\n",
        "  # install https://support.microsoft.com/en-us/help/2977003/the-latest-supported-visual-c-downloads \n",
        "  # insall https://visualstudio.microsoft.com/de/thank-you-downloading-visual-studio/?sku=Community&rel=15\n",
        "  # pip install pm4py\n",
        "\n",
        "#mac\n",
        "  # pip install pm4py\n",
        "  # python -c \"import pm4py\"\n",
        "\n",
        "\n",
        "#linux\n",
        "  #g++ -v\n",
        "  #apt-get install graphviz\n",
        "  #apt-get install graphviz\n",
        "  #pip install pm4py\n",
        "\n",
        "\n",
        "# details / error handling check https://pm4py.fit.fraunhofer.de/install-page#item-1-2 \n"
      ],
      "execution_count": null,
      "outputs": []
    },
    {
      "cell_type": "code",
      "metadata": {
        "id": "6WUmHlLQ5qcI"
      },
      "source": [
        "# only 4 Colab\n",
        "if 'google.colab' in str(get_ipython()):\n",
        "  !apt-get install python3-tk\n",
        "  #!apt-get install -y graphviz-dev\n",
        "  #!apt-get install python3-dev graphviz libgraphviz-dev pkg-config\n",
        "  !pip install graphviz\n",
        "  !pip install pm4pybpmn\n",
        "  !pip install pygraphviz"
      ],
      "execution_count": null,
      "outputs": []
    },
    {
      "cell_type": "markdown",
      "metadata": {
        "id": "z62JaZjeNv3a"
      },
      "source": [
        "## 1.1 BPMN import"
      ]
    },
    {
      "cell_type": "code",
      "metadata": {
        "id": "l1TjTo6D4mfh"
      },
      "source": [
        "#import libraries\n",
        "import os\n",
        "import graphviz\n",
        "import pandas as pd\n",
        "import lxml as lx\n",
        "import networkx\n",
        "import matplotlib\n",
        "import pydotplus\n"
      ],
      "execution_count": null,
      "outputs": []
    },
    {
      "cell_type": "code",
      "metadata": {
        "id": "KXeWmvYc-gH2"
      },
      "source": [
        "#get & load data\n",
        "!wget https://bitbucket.org/JMU-BWL6/iiv_data_bpmn/raw/14f0142e9ed9c7b79305a21c03e77d12f82ec7da/Test.bpmn"
      ],
      "execution_count": null,
      "outputs": []
    },
    {
      "cell_type": "code",
      "metadata": {
        "id": "R8g--Ah4BQKI"
      },
      "source": [
        "# show XML in JPN\n",
        "tree = lx.etree.parse(\"Test.bpmn\")\n",
        "pretty = lx.etree.tostring(tree, encoding=\"unicode\", pretty_print=True)\n",
        "print(pretty)"
      ],
      "execution_count": null,
      "outputs": []
    },
    {
      "cell_type": "markdown",
      "metadata": {
        "id": "Okgwdi-hx_mI"
      },
      "source": [
        "## 1.2 BPMN chart\n"
      ]
    },
    {
      "cell_type": "code",
      "metadata": {
        "id": "tq9RSpF0yImC"
      },
      "source": [
        "#import pm4py bib\n",
        "from pm4pybpmn.objects.bpmn.importer import bpmn20 as bpmn_importer3\n",
        "\n"
      ],
      "execution_count": null,
      "outputs": []
    },
    {
      "cell_type": "code",
      "metadata": {
        "id": "W7AXiT8hDhR3"
      },
      "source": [
        "#BPMN import as graph \n",
        "bpmn_graph = bpmn_importer3.import_bpmn(\"Test.bpmn\")"
      ],
      "execution_count": null,
      "outputs": []
    },
    {
      "cell_type": "code",
      "metadata": {
        "id": "1bCXm5_Vykw0"
      },
      "source": [
        "#BPMN graph to figure\n",
        "bpmn_figure = bpmn_vis_factory.apply(bpmn_graph)\n",
        "bpmn_vis_factory.view(bpmn_figure)"
      ],
      "execution_count": null,
      "outputs": []
    }
  ]
}