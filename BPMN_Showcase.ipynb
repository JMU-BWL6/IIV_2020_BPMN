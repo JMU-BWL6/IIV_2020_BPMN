{
  "nbformat": 4,
  "nbformat_minor": 0,
  "metadata": {
    "colab": {
      "name": "PAS_BPMN_Showcase.ipynb",
      "provenance": [],
      "collapsed_sections": [],
      "toc_visible": true
    },
    "kernelspec": {
      "name": "python3",
      "display_name": "Python 3"
    }
  },
  "cells": [
    {
      "cell_type": "markdown",
      "metadata": {
        "id": "F1OusV6C4nl4"
      },
      "source": [
        "## Analyse\n",
        "\n",
        "\n",
        "\n"
      ]
    },
    {
      "cell_type": "markdown",
      "metadata": {
        "id": "84qpiVN1Bnv2"
      },
      "source": [
        "install needed Packages  \n",
        "\n"
      ]
    },
    {
      "cell_type": "code",
      "metadata": {
        "id": "1FkNIlBAC6pA"
      },
      "source": [
        "# only 4 anaconda users\n",
        "# for our project we need to install some packages\n",
        "# in a lokal IDE  this must be done via console or the anaconda package manager\n",
        "\n",
        "#Windows\n",
        "  # install https://support.microsoft.com/en-us/help/2977003/the-latest-supported-visual-c-downloads \n",
        "  # insall https://visualstudio.microsoft.com/de/thank-you-downloading-visual-studio/?sku=Community&rel=15\n",
        "  # pip install pm4py  \n",
        "  # pip install graphviz\n",
        "  # pip install pm4pybpmn\n",
        "  # pip install pygraphviz\n",
        "\n",
        "#mac\n",
        "  # pip install pm4py\n",
        "  # python -c \"import pm4py\"\n",
        "  # pip install graphviz\n",
        "  # pip install pm4pybpmn\n",
        "  # pip install pygraphviz\n",
        "\n",
        "\n",
        "#linux\n",
        "  # g++ -v\n",
        "  # apt-get install graphviz\n",
        "  # pip install pm4py\n",
        "  # pip install graphviz\n",
        "  # pip install pm4pybpmn\n",
        "  # pip install pygraphviz\n",
        "\n",
        "# details / error handling check https://pm4py.fit.fraunhofer.de/install-page#item-1-2 \n"
      ],
      "execution_count": null,
      "outputs": []
    },
    {
      "cell_type": "code",
      "metadata": {
        "id": "6WUmHlLQ5qcI",
        "colab": {
          "base_uri": "https://localhost:8080/"
        },
        "outputId": "a2c64d00-e3d5-4b29-97f3-0d4563097aff"
      },
      "source": [
        "# only 4 Colab\n",
        "if 'google.colab' in str(get_ipython()):\n",
        "  !apt-get install python3-tk\n",
        "  #!apt-get install -y graphviz-dev\n",
        "  #!apt-get install python3-dev graphviz libgraphviz-dev pkg-config\n",
        "  !pip install graphviz\n",
        "  !pip install pm4pybpmn\n",
        "  !pip install pygraphviz"
      ],
      "execution_count": 2,
      "outputs": [
        {
          "output_type": "stream",
          "text": [
            "Reading package lists... Done\n",
            "Building dependency tree       \n",
            "Reading state information... Done\n",
            "python3-tk is already the newest version (3.6.9-1~18.04).\n",
            "0 upgraded, 0 newly installed, 0 to remove and 14 not upgraded.\n",
            "Requirement already satisfied: graphviz in /usr/local/lib/python3.6/dist-packages (0.10.1)\n",
            "Requirement already satisfied: pm4pybpmn in /usr/local/lib/python3.6/dist-packages (0.1.6)\n",
            "Requirement already satisfied: intervaltree in /usr/local/lib/python3.6/dist-packages (from pm4pybpmn) (2.1.0)\n",
            "Requirement already satisfied: joblib in /usr/local/lib/python3.6/dist-packages (from pm4pybpmn) (0.17.0)\n",
            "Requirement already satisfied: pydotplus in /usr/local/lib/python3.6/dist-packages (from pm4pybpmn) (2.0.2)\n",
            "Requirement already satisfied: networkx>=2.2 in /usr/local/lib/python3.6/dist-packages (from pm4pybpmn) (2.5)\n",
            "Requirement already satisfied: lime in /usr/local/lib/python3.6/dist-packages (from pm4pybpmn) (0.2.0.1)\n",
            "Requirement already satisfied: bpmn-python==0.0.18 in /usr/local/lib/python3.6/dist-packages (from pm4pybpmn) (0.0.18)\n",
            "Requirement already satisfied: pm4py in /usr/local/lib/python3.6/dist-packages (from pm4pybpmn) (2.1.0.2)\n",
            "Requirement already satisfied: sortedcontainers in /usr/local/lib/python3.6/dist-packages (from intervaltree->pm4pybpmn) (2.3.0)\n",
            "Requirement already satisfied: pyparsing>=2.0.1 in /usr/local/lib/python3.6/dist-packages (from pydotplus->pm4pybpmn) (2.4.7)\n",
            "Requirement already satisfied: decorator>=4.3.0 in /usr/local/lib/python3.6/dist-packages (from networkx>=2.2->pm4pybpmn) (4.4.2)\n",
            "Requirement already satisfied: matplotlib in /usr/local/lib/python3.6/dist-packages (from lime->pm4pybpmn) (3.2.2)\n",
            "Requirement already satisfied: tqdm in /usr/local/lib/python3.6/dist-packages (from lime->pm4pybpmn) (4.41.1)\n",
            "Requirement already satisfied: scikit-learn>=0.18 in /usr/local/lib/python3.6/dist-packages (from lime->pm4pybpmn) (0.22.2.post1)\n",
            "Requirement already satisfied: numpy in /usr/local/lib/python3.6/dist-packages (from lime->pm4pybpmn) (1.18.5)\n",
            "Requirement already satisfied: scipy in /usr/local/lib/python3.6/dist-packages (from lime->pm4pybpmn) (1.4.1)\n",
            "Requirement already satisfied: scikit-image>=0.12 in /usr/local/lib/python3.6/dist-packages (from lime->pm4pybpmn) (0.16.2)\n",
            "Requirement already satisfied: pandas in /usr/local/lib/python3.6/dist-packages (from bpmn-python==0.0.18->pm4pybpmn) (1.1.4)\n",
            "Requirement already satisfied: six in /usr/local/lib/python3.6/dist-packages (from bpmn-python==0.0.18->pm4pybpmn) (1.15.0)\n",
            "Requirement already satisfied: lxml in /usr/local/lib/python3.6/dist-packages (from pm4py->pm4pybpmn) (4.2.6)\n",
            "Requirement already satisfied: graphviz in /usr/local/lib/python3.6/dist-packages (from pm4py->pm4pybpmn) (0.10.1)\n",
            "Requirement already satisfied: pyvis in /usr/local/lib/python3.6/dist-packages (from pm4py->pm4pybpmn) (0.1.8.2)\n",
            "Requirement already satisfied: pulp<=2.1 in /usr/local/lib/python3.6/dist-packages (from pm4py->pm4pybpmn) (2.1)\n",
            "Requirement already satisfied: jsonpickle in /usr/local/lib/python3.6/dist-packages (from pm4py->pm4pybpmn) (1.4.2)\n",
            "Requirement already satisfied: sympy in /usr/local/lib/python3.6/dist-packages (from pm4py->pm4pybpmn) (1.1.1)\n",
            "Requirement already satisfied: ciso8601; python_version < \"3.7\" in /usr/local/lib/python3.6/dist-packages (from pm4py->pm4pybpmn) (2.1.3)\n",
            "Requirement already satisfied: pm4pycvxopt>=0.0.10; python_version < \"3.9\" in /usr/local/lib/python3.6/dist-packages (from pm4py->pm4pybpmn) (0.0.10)\n",
            "Requirement already satisfied: stringdist in /usr/local/lib/python3.6/dist-packages (from pm4py->pm4pybpmn) (1.0.9)\n",
            "Requirement already satisfied: deprecation in /usr/local/lib/python3.6/dist-packages (from pm4py->pm4pybpmn) (2.1.0)\n",
            "Requirement already satisfied: pytz in /usr/local/lib/python3.6/dist-packages (from pm4py->pm4pybpmn) (2018.9)\n",
            "Requirement already satisfied: python-dateutil>=2.1 in /usr/local/lib/python3.6/dist-packages (from matplotlib->lime->pm4pybpmn) (2.8.1)\n",
            "Requirement already satisfied: kiwisolver>=1.0.1 in /usr/local/lib/python3.6/dist-packages (from matplotlib->lime->pm4pybpmn) (1.3.1)\n",
            "Requirement already satisfied: cycler>=0.10 in /usr/local/lib/python3.6/dist-packages (from matplotlib->lime->pm4pybpmn) (0.10.0)\n",
            "Requirement already satisfied: pillow>=4.3.0 in /usr/local/lib/python3.6/dist-packages (from scikit-image>=0.12->lime->pm4pybpmn) (7.0.0)\n",
            "Requirement already satisfied: PyWavelets>=0.4.0 in /usr/local/lib/python3.6/dist-packages (from scikit-image>=0.12->lime->pm4pybpmn) (1.1.1)\n",
            "Requirement already satisfied: imageio>=2.3.0 in /usr/local/lib/python3.6/dist-packages (from scikit-image>=0.12->lime->pm4pybpmn) (2.4.1)\n",
            "Requirement already satisfied: jinja2>=2.9.6 in /usr/local/lib/python3.6/dist-packages (from pyvis->pm4py->pm4pybpmn) (2.11.2)\n",
            "Requirement already satisfied: ipython>=5.3.0 in /usr/local/lib/python3.6/dist-packages (from pyvis->pm4py->pm4pybpmn) (5.5.0)\n",
            "Requirement already satisfied: importlib-metadata; python_version < \"3.8\" in /usr/local/lib/python3.6/dist-packages (from jsonpickle->pm4py->pm4pybpmn) (2.0.0)\n",
            "Requirement already satisfied: mpmath>=0.19 in /usr/local/lib/python3.6/dist-packages (from sympy->pm4py->pm4pybpmn) (1.1.0)\n",
            "Requirement already satisfied: cvxopt in /usr/local/lib/python3.6/dist-packages (from pm4pycvxopt>=0.0.10; python_version < \"3.9\"->pm4py->pm4pybpmn) (1.2.5)\n",
            "Requirement already satisfied: packaging in /usr/local/lib/python3.6/dist-packages (from deprecation->pm4py->pm4pybpmn) (20.4)\n",
            "Requirement already satisfied: MarkupSafe>=0.23 in /usr/local/lib/python3.6/dist-packages (from jinja2>=2.9.6->pyvis->pm4py->pm4pybpmn) (1.1.1)\n",
            "Requirement already satisfied: pexpect; sys_platform != \"win32\" in /usr/local/lib/python3.6/dist-packages (from ipython>=5.3.0->pyvis->pm4py->pm4pybpmn) (4.8.0)\n",
            "Requirement already satisfied: pygments in /usr/local/lib/python3.6/dist-packages (from ipython>=5.3.0->pyvis->pm4py->pm4pybpmn) (2.6.1)\n",
            "Requirement already satisfied: simplegeneric>0.8 in /usr/local/lib/python3.6/dist-packages (from ipython>=5.3.0->pyvis->pm4py->pm4pybpmn) (0.8.1)\n",
            "Requirement already satisfied: setuptools>=18.5 in /usr/local/lib/python3.6/dist-packages (from ipython>=5.3.0->pyvis->pm4py->pm4pybpmn) (50.3.2)\n",
            "Requirement already satisfied: prompt-toolkit<2.0.0,>=1.0.4 in /usr/local/lib/python3.6/dist-packages (from ipython>=5.3.0->pyvis->pm4py->pm4pybpmn) (1.0.18)\n",
            "Requirement already satisfied: pickleshare in /usr/local/lib/python3.6/dist-packages (from ipython>=5.3.0->pyvis->pm4py->pm4pybpmn) (0.7.5)\n",
            "Requirement already satisfied: traitlets>=4.2 in /usr/local/lib/python3.6/dist-packages (from ipython>=5.3.0->pyvis->pm4py->pm4pybpmn) (4.3.3)\n",
            "Requirement already satisfied: zipp>=0.5 in /usr/local/lib/python3.6/dist-packages (from importlib-metadata; python_version < \"3.8\"->jsonpickle->pm4py->pm4pybpmn) (3.4.0)\n",
            "Requirement already satisfied: ptyprocess>=0.5 in /usr/local/lib/python3.6/dist-packages (from pexpect; sys_platform != \"win32\"->ipython>=5.3.0->pyvis->pm4py->pm4pybpmn) (0.6.0)\n",
            "Requirement already satisfied: wcwidth in /usr/local/lib/python3.6/dist-packages (from prompt-toolkit<2.0.0,>=1.0.4->ipython>=5.3.0->pyvis->pm4py->pm4pybpmn) (0.2.5)\n",
            "Requirement already satisfied: ipython-genutils in /usr/local/lib/python3.6/dist-packages (from traitlets>=4.2->ipython>=5.3.0->pyvis->pm4py->pm4pybpmn) (0.2.0)\n",
            "Requirement already satisfied: pygraphviz in /usr/local/lib/python3.6/dist-packages (1.6)\n"
          ],
          "name": "stdout"
        }
      ]
    },
    {
      "cell_type": "markdown",
      "metadata": {
        "id": "z62JaZjeNv3a"
      },
      "source": [
        "## 1.1 BPMN import"
      ]
    },
    {
      "cell_type": "code",
      "metadata": {
        "id": "l1TjTo6D4mfh"
      },
      "source": [
        "#import libraries\n",
        "import os\n",
        "import graphviz\n",
        "import pandas as pd\n",
        "import lxml as lx\n",
        "import networkx\n",
        "import matplotlib\n",
        "import pydotplus\n"
      ],
      "execution_count": 3,
      "outputs": []
    },
    {
      "cell_type": "code",
      "metadata": {
        "id": "KXeWmvYc-gH2"
      },
      "source": [
        "#get & load data\n",
        "!wget https://bitbucket.org/JMU-BWL6/iiv_data_bpmn/raw/14f0142e9ed9c7b79305a21c03e77d12f82ec7da/Test.bpmn"
      ],
      "execution_count": null,
      "outputs": []
    },
    {
      "cell_type": "code",
      "metadata": {
        "id": "R8g--Ah4BQKI"
      },
      "source": [
        "# show XML in JPN\n",
        "tree = lx.etree.parse(\"Test.bpmn\")\n",
        "pretty = lx.etree.tostring(tree, encoding=\"unicode\", pretty_print=True)\n",
        "print(pretty)"
      ],
      "execution_count": null,
      "outputs": []
    },
    {
      "cell_type": "markdown",
      "metadata": {
        "id": "Okgwdi-hx_mI"
      },
      "source": [
        "## 1.2 BPMN chart\n"
      ]
    },
    {
      "cell_type": "code",
      "metadata": {
        "id": "tq9RSpF0yImC"
      },
      "source": [
        "#import pm4py bib\n",
        "from pm4pybpmn.objects.bpmn.importer import bpmn20 as bpmn_importer3\n",
        "from pm4pybpmn.visualization.bpmn import factory as bpmn_vis_factory\n"
      ],
      "execution_count": 9,
      "outputs": []
    },
    {
      "cell_type": "code",
      "metadata": {
        "id": "W7AXiT8hDhR3"
      },
      "source": [
        "#BPMN import as graph \n",
        "bpmn_graph = bpmn_importer3.import_bpmn(\"Test.bpmn\")"
      ],
      "execution_count": 10,
      "outputs": []
    },
    {
      "cell_type": "code",
      "metadata": {
        "id": "1bCXm5_Vykw0",
        "colab": {
          "base_uri": "https://localhost:8080/",
          "height": 605
        },
        "outputId": "4885eadf-d5cd-4e02-afda-edf04afff634"
      },
      "source": [
        "#BPMN graph to figure\n",
        "bpmn_figure = bpmn_vis_factory.apply(bpmn_graph)\n",
        "bpmn_vis_factory.view(bpmn_figure)"
      ],
      "execution_count": 11,
      "outputs": [
        {
          "output_type": "execute_result",
          "data": {
            "image/png": "[encoded data removed]",
            "text/plain": [
              "<IPython.core.display.Image object>"
            ]
          },
          "metadata": {
            "tags": []
          },
          "execution_count": 11
        }
      ]
    }
  ]
}